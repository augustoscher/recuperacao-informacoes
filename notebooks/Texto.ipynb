{
 "cells": [
  {
   "cell_type": "markdown",
   "metadata": {},
   "source": [
    "# Similaridade de texto (palavras)\n",
    "\n",
    "A similaridade de texto é utilizada para comparar palavras similares (que foram escritas de forma diferente).\n",
    "Alguns exemplos:\n",
    "\n",
    "* `São Paulo`\n",
    "* `Sao Paulo`\n",
    "*  `São Paulo   ` (tem espaço no final)\n",
    "* `são paulo`\n",
    "\n",
    "Todas as palavras acima se referem a cidade de São Paulo, mas se efetuar umas simples comparação de _strings_ (`str1 == str2`) o resultado será `False`.\n",
    "\n",
    "É possível tratar esses casos, como (`str.strip()`) para remover espaços no começo/final do texto.\n",
    "Outro detalhe é `str.lower()` ou `str.upper()` para manter tudo minúsculo/maiúsculo.\n",
    "Finalmente, é possível remover toda a acentuação para evitar problemas.\n",
    "\n",
    "Entretanto, essa não é uma boa adordagem (principalmente remover acentuação, as outras duas podem ser boas ideias) visto que estamos alterando o texto para encontrar o nome `São Paulo`.\n",
    "\n",
    "Uma alternativa é computar um número (entre 0 e 100, por exemplo) que indica o quão similares são duas palavras.\n",
    "Sendo que, 0 indica palavras completamente diferentes e 100 indica que as palavras são idênticas.\n",
    "Assim, podemos definir um limiar de forma que, qualquer similaridade acima de 80 aceitamos como algo válido.\n",
    "O valor de limiar vai variar com o contexto, por isso é importante testar várias abordagens.\n",
    "\n",
    "Existem várias métricas para calcular essa similaridade: https://en.wikipedia.org/wiki/Edit_distance\n",
    "\n",
    "Vamos trabalhar com a distância de Levenshtein: https://en.wikipedia.org/wiki/Levenshtein_distance\n",
    "\n",
    "A distância de Levenshtein calcula o número minímino de alterações (inserir, remover, substituir) que devemos fazer em uma string para que ela fique igual a outra.\n",
    "\n",
    "Tutorial `fuzzywuzzy` https://www.datacamp.com/community/tutorials/fuzzy-string-python\n",
    "\n",
    "Outra referência é a seção 3.3.3 na página 58 do livro [_An Introduction to Information Retrieval_](https://nlp.stanford.edu/IR-book/information-retrieval-book.html)"
   ]
  },
  {
   "cell_type": "code",
   "execution_count": 21,
   "metadata": {},
   "outputs": [
    {
     "name": "stdout",
     "output_type": "stream",
     "text": [
      "[[0. 1. 2.]\n",
      " [1. 0. 1.]\n",
      " [2. 1. 0.]]\n",
      "Levenshtein of oi, oi is 0.0\n",
      "\n",
      "[[0. 1. 2. 3.]\n",
      " [1. 0. 1. 2.]\n",
      " [2. 1. 0. 1.]\n",
      " [3. 2. 1. 1.]]\n",
      "Levenshtein of car, cat is 1.0\n",
      "\n",
      "[[0. 1. 2. 3.]\n",
      " [1. 0. 1. 2.]\n",
      " [2. 1. 1. 2.]]\n",
      "Levenshtein of oi, ola is 2.0\n",
      "\n",
      "[[0. 1. 2. 3. 4.]\n",
      " [1. 1. 2. 3. 4.]\n",
      " [2. 2. 1. 2. 3.]\n",
      " [3. 3. 2. 2. 2.]\n",
      " [4. 4. 3. 2. 3.]]\n",
      "Levenshtein of cats, fast is 3.0\n",
      "\n",
      "[[0. 1. 2. 3. 4. 5. 6.]\n",
      " [1. 1. 2. 3. 4. 5. 6.]\n",
      " [2. 2. 1. 2. 3. 4. 5.]\n",
      " [3. 3. 2. 1. 2. 3. 4.]\n",
      " [4. 4. 3. 2. 1. 2. 3.]\n",
      " [5. 5. 4. 3. 2. 2. 3.]\n",
      " [6. 6. 5. 4. 3. 3. 2.]\n",
      " [7. 7. 6. 5. 4. 4. 3.]]\n",
      "Levenshtein of sitting, kitten is 3.0\n",
      "\n",
      "[[0. 1. 2. 3. 4. 5. 6. 7. 8.]\n",
      " [1. 0. 1. 2. 3. 4. 5. 6. 7.]\n",
      " [2. 1. 1. 2. 2. 3. 4. 5. 6.]\n",
      " [3. 2. 2. 2. 3. 3. 4. 5. 6.]\n",
      " [4. 3. 3. 3. 3. 4. 3. 4. 5.]\n",
      " [5. 4. 3. 4. 4. 4. 4. 3. 4.]\n",
      " [6. 5. 4. 4. 5. 5. 5. 4. 3.]]\n",
      "Levenshtein of sunday, saturday is 3.0\n",
      "\n"
     ]
    }
   ],
   "source": [
    "#https://stackabuse.com/levenshtein-distance-and-text-similarity-in-python/\n",
    "# distância de levenshtein\n",
    "import numpy as np\n",
    "\n",
    "def levenshtein(seq1, seq2):\n",
    "    size_x = len(seq1) + 1\n",
    "    size_y = len(seq2) + 1\n",
    "    matrix = np.zeros ((size_x, size_y))\n",
    "    for x in range(size_x):\n",
    "        matrix [x, 0] = x\n",
    "    for y in range(size_y):\n",
    "        matrix [0, y] = y\n",
    "        \n",
    "    for x in range(1, size_x):\n",
    "        for y in range(1, size_y):\n",
    "            if seq1[x-1] == seq2[y-1]:\n",
    "                matrix [x,y] = min(\n",
    "                    matrix[x-1, y] + 1,\n",
    "                    matrix[x-1, y-1],\n",
    "                    matrix[x, y-1] + 1\n",
    "                )\n",
    "            else:\n",
    "                matrix [x,y] = min(\n",
    "                    matrix[x-1,y] + 1,\n",
    "                    matrix[x-1,y-1] + 1,\n",
    "                    matrix[x,y-1] + 1\n",
    "                )\n",
    "    \n",
    "    print (matrix)\n",
    "    distance = (matrix[size_x - 1, size_y - 1])\n",
    "    print(f'Levenshtein of {seq1}, {seq2} is {distance}')\n",
    "    print()\n",
    "    return distance\n",
    "    \n",
    "\n",
    "assert levenshtein('oi', 'oi') == 0\n",
    "assert levenshtein('car', 'cat') == 1\n",
    "assert levenshtein('oi', 'ola') == 2\n",
    "assert levenshtein('cats', 'fast') == 3\n",
    "assert levenshtein('sitting', 'kitten') == 3\n",
    "assert levenshtein('sunday', 'saturday') == 3"
   ]
  },
  {
   "cell_type": "code",
   "execution_count": 23,
   "metadata": {},
   "outputs": [
    {
     "name": "stderr",
     "output_type": "stream",
     "text": [
      "/home/augusto.scher/anaconda3/lib/python3.7/site-packages/fuzzywuzzy/fuzz.py:11: UserWarning: Using slow pure-python SequenceMatcher. Install python-Levenshtein to remove this warning\n",
      "  warnings.warn('Using slow pure-python SequenceMatcher. Install python-Levenshtein to remove this warning')\n"
     ]
    }
   ],
   "source": [
    "from fuzzywuzzy import fuzz"
   ]
  },
  {
   "cell_type": "code",
   "execution_count": 24,
   "metadata": {},
   "outputs": [
    {
     "data": {
      "text/plain": [
       "89"
      ]
     },
     "execution_count": 24,
     "metadata": {},
     "output_type": "execute_result"
    }
   ],
   "source": [
    "fuzz.ratio('São Paulo', 'Sao Paulo')"
   ]
  },
  {
   "cell_type": "code",
   "execution_count": 6,
   "metadata": {},
   "outputs": [
    {
     "data": {
      "text/plain": [
       "67"
      ]
     },
     "execution_count": 6,
     "metadata": {},
     "output_type": "execute_result"
    }
   ],
   "source": [
    "fuzz.ratio('São Paulo', 'sao paulo')"
   ]
  },
  {
   "cell_type": "code",
   "execution_count": 7,
   "metadata": {},
   "outputs": [
    {
     "data": {
      "text/plain": [
       "82"
      ]
     },
     "execution_count": 7,
     "metadata": {},
     "output_type": "execute_result"
    }
   ],
   "source": [
    "fuzz.ratio('São Paulo', 'São Paulo    ')"
   ]
  },
  {
   "cell_type": "code",
   "execution_count": 8,
   "metadata": {},
   "outputs": [
    {
     "data": {
      "text/plain": [
       "89"
      ]
     },
     "execution_count": 8,
     "metadata": {},
     "output_type": "execute_result"
    }
   ],
   "source": [
    "fuzz.ratio('Sao Paulo', 'São Paulo')"
   ]
  },
  {
   "cell_type": "markdown",
   "metadata": {},
   "source": [
    "Assim, podemos ter uma lista de cidades e ver quais pessoas moram em `São Paulo`"
   ]
  },
  {
   "cell_type": "code",
   "execution_count": 10,
   "metadata": {},
   "outputs": [
    {
     "data": {
      "text/plain": [
       "[100, 90, 89, 67, 82, 82, 24, 24, 35]"
      ]
     },
     "execution_count": 10,
     "metadata": {},
     "output_type": "execute_result"
    }
   ],
   "source": [
    "pessoas = [\n",
    "    {'nome': 'Pessoa A', 'cidade': 'São Paulo'},\n",
    "    {'nome': 'Pessoa B', 'cidade': ' São Paulo '},\n",
    "    {'nome': 'Pessoa C', 'cidade': 'Sao Paulo'},\n",
    "    {'nome': 'Pessoa D', 'cidade': 'sao paulo'},\n",
    "    {'nome': 'Pessoa E', 'cidade': 'SaoPaulo'},\n",
    "    {'nome': 'Pessoa F', 'cidade': 'S. Paulo'},\n",
    "    {'nome': 'Pessoa G', 'cidade': 'Blumenau'},\n",
    "    {'nome': 'Pessoa H', 'cidade': 'Pomerode'},\n",
    "    {'nome': 'Pessoa I', 'cidade': 'Rio de Janeiro'},\n",
    "]\n",
    "\n",
    "scores = [fuzz.ratio('São Paulo', p['cidade']) for p in pessoas]\n",
    "scores"
   ]
  },
  {
   "cell_type": "markdown",
   "metadata": {},
   "source": [
    "Entretanto, nem sempre é possível comparar o texto diretamente.\n",
    "Por exemplo, o nome da cidade pode estar no meio de uma frase.\n",
    "Para isso, é possível fazer uma comparação parcial.\n",
    "\n",
    "`fuzz.ratio()` compara dois textos por completo, com a similaridade entre eles.\n",
    "\n",
    "`fuzz.partial_ratio()` faz a comparação em substrings."
   ]
  },
  {
   "cell_type": "code",
   "execution_count": 13,
   "metadata": {},
   "outputs": [
    {
     "data": {
      "text/plain": [
       "40"
      ]
     },
     "execution_count": 13,
     "metadata": {},
     "output_type": "execute_result"
    }
   ],
   "source": [
    "fuzz.ratio('São Paulo', 'João mudou-se para São Paulo em 2019')"
   ]
  },
  {
   "cell_type": "code",
   "execution_count": 11,
   "metadata": {},
   "outputs": [
    {
     "data": {
      "text/plain": [
       "100"
      ]
     },
     "execution_count": 11,
     "metadata": {},
     "output_type": "execute_result"
    }
   ],
   "source": [
    "fuzz.partial_ratio('São Paulo', 'João mudou-se para São Paulo em 2019')"
   ]
  },
  {
   "cell_type": "code",
   "execution_count": 12,
   "metadata": {},
   "outputs": [
    {
     "data": {
      "text/plain": [
       "89"
      ]
     },
     "execution_count": 12,
     "metadata": {},
     "output_type": "execute_result"
    }
   ],
   "source": [
    "fuzz.partial_ratio('São Paulo', 'João mudou-se para Sao Paulo em 2019')"
   ]
  },
  {
   "cell_type": "markdown",
   "metadata": {},
   "source": [
    "Outro caso comum, é a ordem dos textos.\n",
    "\n",
    "Por exemplo, `Comparamos o Dispositivo A com o Dispositivo B` e `Comparamos o Dispositivo B com o Dispositivo A`."
   ]
  },
  {
   "cell_type": "code",
   "execution_count": 14,
   "metadata": {},
   "outputs": [
    {
     "data": {
      "text/plain": [
       "100"
      ]
     },
     "execution_count": 14,
     "metadata": {},
     "output_type": "execute_result"
    }
   ],
   "source": [
    "fuzz.partial_ratio('Dispositivo A com Dispositivo B', 'Comparamos Dispositivo A com Dispositivo B')"
   ]
  },
  {
   "cell_type": "code",
   "execution_count": 17,
   "metadata": {},
   "outputs": [
    {
     "data": {
      "text/plain": [
       "55"
      ]
     },
     "execution_count": 17,
     "metadata": {},
     "output_type": "execute_result"
    }
   ],
   "source": [
    "fuzz.partial_ratio('Dispositivo A com Dispositivo B', 'Comparamos dispositivo B com dispositivo A')"
   ]
  },
  {
   "cell_type": "code",
   "execution_count": 18,
   "metadata": {},
   "outputs": [
    {
     "data": {
      "text/plain": [
       "85"
      ]
     },
     "execution_count": 18,
     "metadata": {},
     "output_type": "execute_result"
    }
   ],
   "source": [
    "fuzz.token_sort_ratio('Dispositivo A com Dispositivo B', 'Comparamos dispositivo B com dispositivo A')"
   ]
  },
  {
   "cell_type": "markdown",
   "metadata": {},
   "source": [
    "Outro caso é o uso da comparação `Dispositivo A com Dispositivo B` ou `Dispositivo A x Dispositivo B`."
   ]
  },
  {
   "cell_type": "code",
   "execution_count": 19,
   "metadata": {},
   "outputs": [
    {
     "data": {
      "text/plain": [
       "76"
      ]
     },
     "execution_count": 19,
     "metadata": {},
     "output_type": "execute_result"
    }
   ],
   "source": [
    "fuzz.token_sort_ratio('Dispositivo A x Dispositivo B', 'Comparamos dispositivo B com dispositivo A')"
   ]
  },
  {
   "cell_type": "code",
   "execution_count": 21,
   "metadata": {},
   "outputs": [
    {
     "data": {
      "text/plain": [
       "94"
      ]
     },
     "execution_count": 21,
     "metadata": {},
     "output_type": "execute_result"
    }
   ],
   "source": [
    "fuzz.token_set_ratio('Dispositivo A x Dispositivo B', 'Comparamos dispositivo B com dispositivo A')"
   ]
  },
  {
   "cell_type": "markdown",
   "metadata": {},
   "source": [
    "## Processamento de linguagem natural\n",
    "\n",
    "São técnicas utilizadas para trabalhar com texto que englobam desde _tokenização_ (separar uma string em palavras) até a tradução de texto.\n",
    "\n",
    "A similaridade de palavras acima demonstra um uso de processamento de linguagem natural.\n",
    "\n",
    "Nesta parte, vamos ver alguns conceitos básicos utilizando as bibliotecas `NLTK` e `spaCy`.\n",
    "\n",
    "Uma comparação entre `NLTK` e `spaCy` https://medium.com/@akankshamalhotra24/introduction-to-libraries-of-nlp-in-python-nltk-vs-spacy-42d7b2f128f2"
   ]
  },
  {
   "cell_type": "code",
   "execution_count": 5,
   "metadata": {},
   "outputs": [],
   "source": [
    "# Fonte http://www.furb.br/web/1704/noticias/furb-esta-entre-4-melhores-de-sc-em-ranking-da-america-latina/7944\n",
    "texto = '''O Brasil desponta com as melhores Universidades da América Latina, com o total de 3 no top 10,\n",
    "seguida do Chile, Colômbia e México com 2 em cada país, além da Argentina com uma.\n",
    "No primeiro lugar está a Pontifícia Universidade Católica do Chile, seguida da Universidade de São Paulo (USP).\n",
    "'''"
   ]
  },
  {
   "cell_type": "markdown",
   "metadata": {},
   "source": [
    "## Tokenização\n",
    "\n",
    "Separara um texto em uma lista de palavras.\n",
    "Note que a forma mais simples de resolver esse problema é `texto.split(' ')` apenas separando por espaços.\n",
    "Entretanto, essa abordagem falha em um texto como `... fim do dia.`, onde `dia.` seria um token, mas deveria ser separdo em dois: `dia` e `.`.\n",
    "O mesmo acontece para nomes, `João B. da Silva`, é importante notar que `B.` não é o final da frase, mas uma abreviação."
   ]
  },
  {
   "cell_type": "code",
   "execution_count": 78,
   "metadata": {},
   "outputs": [],
   "source": [
    "from nltk.tokenize import word_tokenize"
   ]
  },
  {
   "cell_type": "code",
   "execution_count": 79,
   "metadata": {},
   "outputs": [
    {
     "name": "stderr",
     "output_type": "stream",
     "text": [
      "[nltk_data] Downloading package punkt to\n",
      "[nltk_data]     /home/augusto.scher/nltk_data...\n",
      "[nltk_data]   Package punkt is already up-to-date!\n"
     ]
    },
    {
     "data": {
      "text/plain": [
       "True"
      ]
     },
     "execution_count": 79,
     "metadata": {},
     "output_type": "execute_result"
    }
   ],
   "source": [
    "# Pode ser necessário executar\n",
    "import nltk\n",
    "nltk.download('punkt')"
   ]
  },
  {
   "cell_type": "code",
   "execution_count": 80,
   "metadata": {},
   "outputs": [
    {
     "name": "stdout",
     "output_type": "stream",
     "text": [
      "O\n",
      "Brasil\n",
      "desponta\n",
      "com\n",
      "as\n",
      "melhores\n",
      "Universidades\n",
      "da\n",
      "América\n",
      "Latina\n",
      ",\n"
     ]
    }
   ],
   "source": [
    "tokens = word_tokenize(texto)\n",
    "# print(tokens)\n",
    "# print()\n",
    "for (i, token) in enumerate(tokens):\n",
    "    print(token)\n",
    "    if i == 10:\n",
    "        break"
   ]
  },
  {
   "cell_type": "code",
   "execution_count": 81,
   "metadata": {},
   "outputs": [
    {
     "name": "stdout",
     "output_type": "stream",
     "text": [
      "Requirement already satisfied: pt_core_news_sm==2.2.5 from https://github.com/explosion/spacy-models/releases/download/pt_core_news_sm-2.2.5/pt_core_news_sm-2.2.5.tar.gz#egg=pt_core_news_sm==2.2.5 in /home/augusto.scher/anaconda3/lib/python3.7/site-packages (2.2.5)\n",
      "Requirement already satisfied: spacy>=2.2.2 in /home/augusto.scher/anaconda3/lib/python3.7/site-packages (from pt_core_news_sm==2.2.5) (2.2.3)\n",
      "Requirement already satisfied: srsly<1.1.0,>=0.1.0 in /home/augusto.scher/anaconda3/lib/python3.7/site-packages (from spacy>=2.2.2->pt_core_news_sm==2.2.5) (0.2.0)\n",
      "Requirement already satisfied: plac<1.2.0,>=0.9.6 in /home/augusto.scher/anaconda3/lib/python3.7/site-packages (from spacy>=2.2.2->pt_core_news_sm==2.2.5) (1.1.3)\n",
      "Requirement already satisfied: thinc<7.4.0,>=7.3.0 in /home/augusto.scher/anaconda3/lib/python3.7/site-packages (from spacy>=2.2.2->pt_core_news_sm==2.2.5) (7.3.1)\n",
      "Requirement already satisfied: murmurhash<1.1.0,>=0.28.0 in /home/augusto.scher/anaconda3/lib/python3.7/site-packages (from spacy>=2.2.2->pt_core_news_sm==2.2.5) (1.0.2)\n",
      "Requirement already satisfied: catalogue<1.1.0,>=0.0.7 in /home/augusto.scher/anaconda3/lib/python3.7/site-packages (from spacy>=2.2.2->pt_core_news_sm==2.2.5) (0.0.8)\n",
      "Requirement already satisfied: blis<0.5.0,>=0.4.0 in /home/augusto.scher/anaconda3/lib/python3.7/site-packages (from spacy>=2.2.2->pt_core_news_sm==2.2.5) (0.4.1)\n",
      "Requirement already satisfied: preshed<3.1.0,>=3.0.2 in /home/augusto.scher/anaconda3/lib/python3.7/site-packages (from spacy>=2.2.2->pt_core_news_sm==2.2.5) (3.0.2)\n",
      "Requirement already satisfied: setuptools in /home/augusto.scher/anaconda3/lib/python3.7/site-packages (from spacy>=2.2.2->pt_core_news_sm==2.2.5) (40.8.0)\n",
      "Requirement already satisfied: requests<3.0.0,>=2.13.0 in /home/augusto.scher/anaconda3/lib/python3.7/site-packages (from spacy>=2.2.2->pt_core_news_sm==2.2.5) (2.21.0)\n",
      "Requirement already satisfied: numpy>=1.15.0 in /home/augusto.scher/anaconda3/lib/python3.7/site-packages (from spacy>=2.2.2->pt_core_news_sm==2.2.5) (1.16.2)\n",
      "Requirement already satisfied: wasabi<1.1.0,>=0.4.0 in /home/augusto.scher/anaconda3/lib/python3.7/site-packages (from spacy>=2.2.2->pt_core_news_sm==2.2.5) (0.4.0)\n",
      "Requirement already satisfied: cymem<2.1.0,>=2.0.2 in /home/augusto.scher/anaconda3/lib/python3.7/site-packages (from spacy>=2.2.2->pt_core_news_sm==2.2.5) (2.0.3)\n",
      "Requirement already satisfied: tqdm<5.0.0,>=4.10.0 in /home/augusto.scher/anaconda3/lib/python3.7/site-packages (from thinc<7.4.0,>=7.3.0->spacy>=2.2.2->pt_core_news_sm==2.2.5) (4.31.1)\n",
      "Requirement already satisfied: importlib-metadata>=0.20; python_version < \"3.8\" in /home/augusto.scher/anaconda3/lib/python3.7/site-packages (from catalogue<1.1.0,>=0.0.7->spacy>=2.2.2->pt_core_news_sm==2.2.5) (0.23)\n",
      "Requirement already satisfied: certifi>=2017.4.17 in /home/augusto.scher/anaconda3/lib/python3.7/site-packages (from requests<3.0.0,>=2.13.0->spacy>=2.2.2->pt_core_news_sm==2.2.5) (2019.9.11)\n",
      "Requirement already satisfied: chardet<3.1.0,>=3.0.2 in /home/augusto.scher/anaconda3/lib/python3.7/site-packages (from requests<3.0.0,>=2.13.0->spacy>=2.2.2->pt_core_news_sm==2.2.5) (3.0.4)\n",
      "Requirement already satisfied: idna<2.9,>=2.5 in /home/augusto.scher/anaconda3/lib/python3.7/site-packages (from requests<3.0.0,>=2.13.0->spacy>=2.2.2->pt_core_news_sm==2.2.5) (2.8)\n",
      "Requirement already satisfied: urllib3<1.25,>=1.21.1 in /home/augusto.scher/anaconda3/lib/python3.7/site-packages (from requests<3.0.0,>=2.13.0->spacy>=2.2.2->pt_core_news_sm==2.2.5) (1.24.1)\n",
      "Requirement already satisfied: zipp>=0.5 in /home/augusto.scher/anaconda3/lib/python3.7/site-packages (from importlib-metadata>=0.20; python_version < \"3.8\"->catalogue<1.1.0,>=0.0.7->spacy>=2.2.2->pt_core_news_sm==2.2.5) (0.6.0)\n",
      "Requirement already satisfied: more-itertools in /home/augusto.scher/anaconda3/lib/python3.7/site-packages (from zipp>=0.5->importlib-metadata>=0.20; python_version < \"3.8\"->catalogue<1.1.0,>=0.0.7->spacy>=2.2.2->pt_core_news_sm==2.2.5) (6.0.0)\n",
      "\u001b[38;5;2m✔ Download and installation successful\u001b[0m\n",
      "You can now load the model via spacy.load('pt_core_news_sm')\n"
     ]
    }
   ],
   "source": [
    "import spacy\n",
    "# pode ser necessário instalar o modelo\n",
    "!python -m spacy download pt_core_news_sm\n"
   ]
  },
  {
   "cell_type": "code",
   "execution_count": 84,
   "metadata": {},
   "outputs": [],
   "source": [
    "nlp = spacy.load('pt_core_news_sm')"
   ]
  },
  {
   "cell_type": "code",
   "execution_count": 83,
   "metadata": {},
   "outputs": [
    {
     "name": "stdout",
     "output_type": "stream",
     "text": [
      "O Brasil desponta com as melhores Universidades da América Latina, com o total de 3 no top 10,\n",
      "seguida do Chile, Colômbia e México com 2 em cada país, além da Argentina com uma.\n",
      "No primeiro lugar está a Pontifícia Universidade Católica do Chile, seguida da Universidade de São Paulo (USP).\n",
      "\n"
     ]
    }
   ],
   "source": [
    "doc = nlp(texto)\n",
    "print(doc)"
   ]
  },
  {
   "cell_type": "code",
   "execution_count": 10,
   "metadata": {},
   "outputs": [
    {
     "name": "stdout",
     "output_type": "stream",
     "text": [
      "O\n",
      "Brasil\n",
      "desponta\n",
      "com\n",
      "as\n",
      "melhores\n",
      "Universidades\n",
      "da\n",
      "América\n",
      "Latina\n",
      ",\n"
     ]
    }
   ],
   "source": [
    "for (i, token) in enumerate(doc):\n",
    "    print(token.text)\n",
    "    if i == 10:\n",
    "        break"
   ]
  },
  {
   "cell_type": "code",
   "execution_count": 85,
   "metadata": {},
   "outputs": [
    {
     "name": "stdout",
     "output_type": "stream",
     "text": [
      "['desponta', 'seguida', 'está', 'seguida']\n",
      "['total', 'país', 'lugar']\n"
     ]
    }
   ],
   "source": [
    "# apenas os verbos\n",
    "verbos = [token.text for token in doc if token.pos_ == 'VERB']\n",
    "print(verbos)\n",
    "\n",
    "substantivos = [token.text for token in doc if token.pos_ == 'NOUN']\n",
    "print(substantivos)"
   ]
  },
  {
   "cell_type": "markdown",
   "metadata": {},
   "source": [
    "## Remoção de _stopwords_\n",
    "\n",
    "_Stopwords_ são palavras utilizadas para conectar texto (`de`, `a`, `e`, outros) e não estão ligadas diretamente ao sentido da frase."
   ]
  },
  {
   "cell_type": "code",
   "execution_count": 23,
   "metadata": {},
   "outputs": [],
   "source": [
    "from nltk.corpus import stopwords"
   ]
  },
  {
   "cell_type": "code",
   "execution_count": 25,
   "metadata": {},
   "outputs": [
    {
     "name": "stderr",
     "output_type": "stream",
     "text": [
      "[nltk_data] Downloading package stopwords to\n",
      "[nltk_data]     /home/augusto.scher/nltk_data...\n",
      "[nltk_data]   Unzipping corpora/stopwords.zip.\n"
     ]
    },
    {
     "data": {
      "text/plain": [
       "True"
      ]
     },
     "execution_count": 25,
     "metadata": {},
     "output_type": "execute_result"
    }
   ],
   "source": [
    "# pode ser necessário executar\n",
    "import nltk\n",
    "nltk.download('stopwords')"
   ]
  },
  {
   "cell_type": "code",
   "execution_count": 26,
   "metadata": {},
   "outputs": [
    {
     "data": {
      "text/plain": [
       "['de', 'a', 'o', 'que', 'e', 'é', 'do', 'da', 'em', 'um']"
      ]
     },
     "execution_count": 26,
     "metadata": {},
     "output_type": "execute_result"
    }
   ],
   "source": [
    "sws = stopwords.words('portuguese')\n",
    "sws[:10]"
   ]
  },
  {
   "cell_type": "code",
   "execution_count": 27,
   "metadata": {},
   "outputs": [
    {
     "name": "stdout",
     "output_type": "stream",
     "text": [
      "60 41\n"
     ]
    },
    {
     "data": {
      "text/plain": [
       "['O',\n",
       " 'Brasil',\n",
       " 'desponta',\n",
       " 'melhores',\n",
       " 'Universidades',\n",
       " 'América',\n",
       " 'Latina',\n",
       " ',',\n",
       " 'total',\n",
       " '3']"
      ]
     },
     "execution_count": 27,
     "metadata": {},
     "output_type": "execute_result"
    }
   ],
   "source": [
    "tokens_sem_stopwords = [t for t in tokens if t not in sws]\n",
    "print(len(tokens), len(tokens_sem_stopwords))\n",
    "tokens_sem_stopwords[:10]"
   ]
  },
  {
   "cell_type": "code",
   "execution_count": 28,
   "metadata": {},
   "outputs": [
    {
     "data": {
      "text/plain": [
       "[O, Brasil, desponta, melhores, Universidades, América, Latina, ,, o, total]"
      ]
     },
     "execution_count": 28,
     "metadata": {},
     "output_type": "execute_result"
    }
   ],
   "source": [
    "spacy_tokens_sem_stopwords = [t for t in doc if not t.is_stop]\n",
    "spacy_tokens_sem_stopwords[:10]"
   ]
  },
  {
   "cell_type": "markdown",
   "metadata": {},
   "source": [
    "## Stem\n",
    "\n",
    "_Stem_ é um método para reduzir uma palavra ao radical/raiz.\n",
    "Como os verbos são conjugados, pode ser difícil trabalhar com todas as variações.\n",
    "Uma forma de reduzir esse problema, é trabalhar apenas com o radical do verbo.\n",
    "Por: `copiar` -> `copi`"
   ]
  },
  {
   "cell_type": "code",
   "execution_count": 29,
   "metadata": {},
   "outputs": [
    {
     "name": "stderr",
     "output_type": "stream",
     "text": [
      "[nltk_data] Downloading package rslp to\n",
      "[nltk_data]     /home/augusto.scher/nltk_data...\n",
      "[nltk_data]   Unzipping stemmers/rslp.zip.\n"
     ]
    },
    {
     "data": {
      "text/plain": [
       "True"
      ]
     },
     "execution_count": 29,
     "metadata": {},
     "output_type": "execute_result"
    }
   ],
   "source": [
    "# pode ser necessário executar\n",
    "import nltk\n",
    "nltk.download('rslp')"
   ]
  },
  {
   "cell_type": "code",
   "execution_count": 30,
   "metadata": {},
   "outputs": [],
   "source": [
    "stemmer = nltk.stem.RSLPStemmer()"
   ]
  },
  {
   "cell_type": "code",
   "execution_count": 31,
   "metadata": {},
   "outputs": [
    {
     "data": {
      "text/plain": [
       "'necess'"
      ]
     },
     "execution_count": 31,
     "metadata": {},
     "output_type": "execute_result"
    }
   ],
   "source": [
    "stemmer.stem(\"necessário\")"
   ]
  },
  {
   "cell_type": "code",
   "execution_count": 32,
   "metadata": {},
   "outputs": [
    {
     "data": {
      "text/plain": [
       "'necess'"
      ]
     },
     "execution_count": 32,
     "metadata": {},
     "output_type": "execute_result"
    }
   ],
   "source": [
    "stemmer.stem(\"necessidade\")"
   ]
  },
  {
   "cell_type": "code",
   "execution_count": 33,
   "metadata": {},
   "outputs": [
    {
     "data": {
      "text/plain": [
       "'desnecess'"
      ]
     },
     "execution_count": 33,
     "metadata": {},
     "output_type": "execute_result"
    }
   ],
   "source": [
    "stemmer.stem(\"desnecessário\")"
   ]
  },
  {
   "cell_type": "code",
   "execution_count": 34,
   "metadata": {},
   "outputs": [
    {
     "data": {
      "text/plain": [
       "['o',\n",
       " 'brasil',\n",
       " 'despont',\n",
       " 'melhor',\n",
       " 'univers',\n",
       " 'amér',\n",
       " 'latin',\n",
       " ',',\n",
       " 'total',\n",
       " '3']"
      ]
     },
     "execution_count": 34,
     "metadata": {},
     "output_type": "execute_result"
    }
   ],
   "source": [
    "tokens_stem = [stemmer.stem(t) for t in tokens_sem_stopwords]\n",
    "tokens_stem[:10]"
   ]
  },
  {
   "cell_type": "markdown",
   "metadata": {},
   "source": [
    "## Lemmatization\n",
    "\n",
    "Enquanto _stemming_ reduz as palavras removendo partes no começo e final, _lemmatization_ reduz a palavra na forma do dicionário.\n",
    "\n",
    "Para mais informações: https://nlp.stanford.edu/IR-book/html/htmledition/stemming-and-lemmatization-1.html"
   ]
  },
  {
   "cell_type": "code",
   "execution_count": 36,
   "metadata": {},
   "outputs": [
    {
     "data": {
      "text/plain": [
       "['O',\n",
       " 'Brasil',\n",
       " 'despontar',\n",
       " 'melhorar',\n",
       " 'Universidades',\n",
       " 'América',\n",
       " 'Latina',\n",
       " ',',\n",
       " 'o',\n",
       " 'total']"
      ]
     },
     "execution_count": 36,
     "metadata": {},
     "output_type": "execute_result"
    }
   ],
   "source": [
    "lemmas = [t.lemma_ for t in spacy_tokens_sem_stopwords]\n",
    "lemmas[:10]"
   ]
  },
  {
   "cell_type": "markdown",
   "metadata": {},
   "source": [
    "## TF-IDF\n",
    "\n",
    "_Term Frequency - Inverse Document Frequency_ é uma forma de calcular a importância de uma palavra em um documento.\n",
    "\n",
    "### Term Frequency\n",
    "\n",
    "Quantas vezes um termo (palavra) aparece em um documento.\n",
    "\n",
    "* $\\text{TF}_{t, d} = f_{t, d}$\n",
    "\n",
    "Sendo $t$ um termo e $d$ um documento, ou seja, $f_{t, d}$ é simplesmente a contagem do termo $t$ no documento $d$.\n",
    "\n",
    "O problema com a definição anterior é que determinados termos podem aparecer mais vezes simplesmente porque o documento é maior.\n",
    "Portanto, é necessário normalizar a contagem de termos.\n",
    "\n",
    "* $\\text{TF}_{t, d} = \\frac{f_{t, d}}{\\lvert d \\rvert}$\n",
    "\n",
    "Sendo $f_{t, d}$ a mesma definição acima e $\\lvert d \\rvert$ a quantidade total de termos no documento $d$.\n",
    "Essa é uma métrica normalizada, assim $\\sum{TF_{t, d}} = 1$.\n",
    "\n",
    "* $\\text{TF}_{t, d} = \\frac{f_{t, d}}{\\text{max}_{t'}f_{t', d}}$\n",
    "\n",
    "Essa definição é similar a anterior, mas ao invés de normalizar pela quantidade total de termos em $d$, a normalização é pela contagem do termo mais frequente $\\text{max}_{t'}f_{t', d}$.\n",
    "\n",
    "A vantagem de normalizar pelo termo mais frequente aparece quando os documentos são muito grandes (contém muitos termos). Veremos um exemplo a seguir.\n",
    "\n",
    "### Inverse Document Frequency\n",
    "\n",
    "Apenas as contagens de $\\text{TF}$ não representam o conteúdo de um documento, visto que existem palavras que aparecem mais frequentemente.\n",
    "\n",
    "Portanto, é necessário ponderar a importância de um determinado termo.\n",
    "\n",
    "Para isso, usa-se\n",
    "\n",
    "$\\text{IDF}_t = \\text{log}_2(\\frac{N}{n_t})$\n",
    "\n",
    "Sendo, $N$ a quantidade total de documentos e $n_t$ a quantidade de documentos que o termo $t$ aparece\n",
    "\n",
    "\n",
    "Assim que tiver calculado os valores de $\\text{TF}$ e $\\text{IDF}$ é possível calcular o valor final com\n",
    "\n",
    "$\\text{TF-IDF}_{t, d} = \\text{TF}_{t, d} \\times \\text{IDF}_t$\n",
    "\n",
    "\n",
    "Note que remover palavras muito comuns ( _stop words_ ) pode ser importante antes de calcular o \n",
    "$\\text{TF-IDF}_{t, d}$ visto que algumas palavras sem importância já foram removidas.\n",
    "\n",
    "Referências:\n",
    "* http://www.tfidf.com/\n",
    "* [Mining Massive Datasets, p. 7-9](http://www.mmds.org/)\n",
    "* [Introduction to Information Retrieval, p. 117-120](https://nlp.stanford.edu/IR-book/information-retrieval-book.html)\n",
    "* [tf-idf](https://en.wikipedia.org/wiki/Tf%E2%80%93idf)\n",
    "* [Clustering Text Documents using k-means](https://scikit-learn.org/stable/auto_examples/text/plot_document_clustering.html#sphx-glr-auto-examples-text-plot-document-clustering-py)\n",
    "* [TdIdfTransformer](https://scikit-learn.org/stable/modules/generated/sklearn.feature_extraction.text.TfidfTransformer.html#sklearn.feature_extraction.text.TfidfTransformer)"
   ]
  },
  {
   "cell_type": "code",
   "execution_count": 37,
   "metadata": {},
   "outputs": [],
   "source": [
    "# Alguns documentos para tests\n",
    "documentos = []\n",
    "\n",
    "# Fonte: http://www.furb.br/web/1704/noticias/estudantes-participam-da-semana-global-de-empreendedorismo/7989\n",
    "documentos.append('''Estudantes de Tecnologia em Marketing da FURB, na disciplina Comunicação Empresarial, são os responsáveis pela comunicação local da Semana Global de Empreendedorismo. O evento, criado em 2007, tem como objetivo fortalecer e disseminar a cultura empreendedora e este ano ocorre de 18 a 24 de novembro, em mais de 170 países. A expectativa global é envolver mais de 10 milhões de pessoas em 35 mil eventos cadastrados.\n",
    " \n",
    "Em Blumenau a programação acontece nesta segunda, 18 e terça, 19 de novembro, no auditório da Biblioteca Universitária, campus 1 da FURB. “O evento é público, mas estamos direcionando aos estudantes da Universidade, começando por envolvê-los na divulgação local”, explica a professora de Comunicação Empresarial, Heloísa Rosa. Além dela, estão na organização local da Semana Global de Empreendedorismo os professores Camila Schmitt, Silvio Luís de Vasconcellos e Valter Augusto Krauss, todos ligados ao Centro de Ciências Sociais Aplicadas (CCSA) da FURB.\n",
    " \n",
    "As atividades iniciam nesta segunda-feira, 18, às 18h30, com palestra de Ionita Lunelli, analista do Sebrae/SC há mais de 20 anos. Ela fala sobre o Sebrae e o estímulo que promove ao empreendedorismo. Na sequência, o consultor para o desenvolvimento de startups do Instituto Nexxera | NexxLabs e criador da Metodologia TCC Start Up, João Geraldo Campos, apresenta Negócios com Propósito: Cases de Empreendedorismo Social. O convidado tem formação em Educação Empreendedora pela Babson College, Massachusetts e foi o vencedor do Prêmio Nacional de Educação Empreendedora ENDEAVOR Brasil 2016, com o projeto TCC Start Up, vinculado à Agência de Inovação e Empreendedorismo da Unisul (AGETEC).\n",
    " \n",
    "Na terça-feira, 19, também a partir das 18h30, a FURB recebe a equipe da Haco Etiquetas: Bruno Brandão (Gerente de Marketing), Silvio Triques (Coordenador de Marketing), Taís Prawucki (Planejamento e Criação) e Osiris Reis (Estratégias de Marketing Digital e Relacionamento) para a palestra Marketing 360º.\n",
    " \n",
    "Nos dois dias as palestras ocorrem no Auditório da Biblioteca Universitária, campus 1 da FURB, das 18h30 às 22h, a participação é gratuita e as inscrições podem ser feitas neste link.''')\n",
    "\n",
    "# Fonte: http://www.furb.br/web/1704/noticias/jornada-reune-especialistas-em-citopatologia-veterinaria/7988\n",
    "documentos.append('''Nos dias 22 e 23 de novembro, o auditório do Bloco J, campus 1 da FURB, será movimentado por uma série de apresentações e palestras que abordarão temas como o combate e detecção de doenças em animais como cães e gatos, por exemplo. A primeira edição da Jornada de Citopatologia Veterinária está sendo organizada pelo Grupo de Estudos em Patologia Veterinária da FURB, o GEPAV. A Jornada é voltada a acadêmicos, professores e profissionais com interesse na área da citologia, ou seja, o estudo do desenvolvimento e das funções das células nos animais.\n",
    " \n",
    "Conforme a professora do curso de Medicina Veterinária da FURB, Joelma Lucioli, que auxilia na organização do evento, “o objetivo é fornecer informações atualizadas e de qualidade, além de promover o intercâmbio técnico e científico entre o público envolvido neste conjunto de palestras e apresentações, contando com a participação de profissionais com ampla experiência em citopatologia”. Entre os especialistas que estarão presentes na jornada acadêmica estão o Dr. Breno Souza Salgado (UFES/ES), a Dra. Lidiane Narducci Monteiro (CODIVET/ES) e o mestre Leonardo Dourado da Costa (Instituto Qualittas).\n",
    " \n",
    "O evento tem início na sexta-feira, dia 22 de novembro, com a retirada de materiais e abertura oficial, que acontece a partir das 18h no auditório do Bloco J, campus 1. Às 19h, terá início palestra que discutirá a importância da citologia na conduta clínica, destacando erros e limitações. Em seguida, às 20h40, outro painel tratará da coleta e do processamento das amostras citológicas. Haverá um intervalo de 20 minutos entre uma palestra e outra.\n",
    " \n",
    "Já o sábado, 23, será um dia inteiro de apresentações e trocas de conhecimentos entre os profissionais envolvidos. A programação tem início às 8h da manhã, com a continuação do painel que aborda as amostras citológicas, trazendo as interpretações de resultados citológicos aferidos. Às 10h, outra apresentação irá explanar sobre o diagnóstico citológico de neoplasias de células redondas. Em seguida, às 11h30, haverá uma roda de conversas que irá discutir casos clínicos observados no cotidiano por profissionais da área.\n",
    " \n",
    "Durante a tarde, a partir das 14h, acontecerá palestra sobre o diagnóstico citológico das principais neoplasias epiteliais, que acometem a pele dos animais. Às 16h, outra palestra irá trazer os estudos sobre as principais doenças infecciosas de pele em cães e gatos. Logo após, haverá roda de discussão de casos clínicos observados por profissionais e os diagnósticos obtidos. Às 18 horas está marcada a cerimônia de encerramento.\n",
    " \n",
    "Para participar da Jornada de Citopatologia Veterinária, as inscrições deverão ser feitas através deste link até o dia 20 de novembro.\n",
    " \n",
    "O valor da inscrição para estudantes é de R$ 50,00 e para profissionais da área, R$ 100,00.\n",
    " \n",
    "Sócios da Associação Brasileira de Patologias Veterinárias (ABPV), terão 10% de desconto na inscrição. O pagamento pode ser feito através de depósito ou transferência bancária.\n",
    " \n",
    "Mais informações podem ser obtidas pelo e-mail gepavfurb@gmail.com.\n",
    " \n",
    "A 1ª Jornada Acadêmica de Patologia Veterinária é uma realização do Grupo de Estudos em Patologia Veterinária da FURB (GEPAV), com o apoio da Associação Brasileira de Patologia Veterinária (ABPV) e auxílio financeiro da Fundação de Amparo à Pesquisa do Estado de Santa Catarina (FAPESC), através da Chamada Pública 01/2019.''')\n",
    "\n",
    "# Fonte: http://www.furb.br/web/1704/noticias/pelo-terceiro-mes-seguido-variacao-de-precos-negativa/7984\n",
    "documentos.append('''O Índice de Variação Geral de Preços do município de Blumenau (IVGP) calculado pela FURB para o mês de outubro apontou uma redução de preços em 92, dos 511 itens pesquisados para compor o índice. Organizados em 25 subgrupos, no último mês, cinco subgrupos registraram alta, enquanto 12 permaneceram estáveis e oito variaram negativamente.\n",
    " \n",
    "Os produtos de limpeza registraram a maior baixa de preços: -3,55%, seguidos dos alimentos industrializados que variaram -1,68% e dos serviços públicos, -1,10%.\n",
    "Já os itens que registraram a maior alta de preços foram os materiais de construção, +2,38%, os alimentos semi-industrializados, +1,25% e as autopeças, + 1,13%.  \n",
    "Assim, a variação de preços no mês de outubro foi negativa, -0,29%, abaixo do intervalo esperado pelos economistas, que era de 0,00% e +0,50%. A variação acumulada nos últimos doze meses também está negativa, em -0,09%.\n",
    " \n",
    "É o terceiro mês seguido que o IVGP registra variação negativa: em agosto foi de -0,93%, em setembro, -0,67% e em outubro, -0,29%. No mesmo mês do ano passado, o IVGP registrava +0,59%, maior índice dos últimos 12 meses.\n",
    " \n",
    "Mantido o atual contexto, a variação geral de preços acumulada nos 12 meses, até dezembro de 2019, tende a configurar o cenário otimista, isto é, +3,66%, com uma variação média de 0,30% ao mês. \n",
    " \n",
    "Para acompanhar a série histórica do índice, calculado desde 1993, basta acessar www.furb.br/ivgp''')"
   ]
  },
  {
   "cell_type": "code",
   "execution_count": 54,
   "metadata": {},
   "outputs": [
    {
     "name": "stdout",
     "output_type": "stream",
     "text": [
      "[['estudantes', 'tecnologia', 'marketing', 'furb', 'disciplina', 'comunicação', 'empresarial', 'responsáveis', 'comunicação', 'local', 'semana', 'global', 'empreendedorismo', 'evento', 'criado', '2007', 'objetivo', 'fortalecer', 'disseminar', 'cultura', 'empreendedora', 'ano', 'ocorre', '18', '24', 'novembro', '170', 'países', 'expectativa', 'global', 'envolver', '10', 'milhões', 'pessoas', '35', 'mil', 'eventos', 'cadastrados', 'em', 'blumenau', 'programação', 'acontece', 'nesta', 'segunda', '18', 'terça', '19', 'novembro', 'auditório', 'biblioteca', 'universitária', 'campus', 'furb', 'evento', 'público', 'direcionando', 'estudantes', 'universidade', 'começando', 'envolvê-los', 'divulgação', 'local', 'explica', 'professora', 'comunicação', 'empresarial', 'heloísa', 'rosa', 'além', 'organização', 'local', 'semana', 'global', 'empreendedorismo', 'professores', 'camila', 'schmitt', 'silvio', 'luís', 'vasconcellos', 'valter', 'augusto', 'krauss', 'todos', 'ligados', 'centro', 'ciências', 'sociais', 'aplicadas', 'ccsa', 'furb', 'as', 'atividades', 'iniciam', 'nesta', 'segunda-feira', '18', '18h30', 'palestra', 'ionita', 'lunelli', 'analista', 'sebrae/sc', '20', 'anos', 'ela', 'fala', 'sobre', 'sebrae', 'estímulo', 'promove', 'empreendedorismo', 'na', 'sequência', 'consultor', 'desenvolvimento', 'startups', 'instituto', 'nexxera', 'nexxlabs', 'criador', 'metodologia', 'tcc', 'start', 'up', 'joão', 'geraldo', 'campos', 'apresenta', 'negócios', 'propósito', 'cases', 'empreendedorismo', 'social', 'convidado', 'formação', 'educação', 'empreendedora', 'babson', 'college', 'massachusetts', 'vencedor', 'prêmio', 'nacional', 'educação', 'empreendedora', 'endeavor', 'brasil', '2016', 'projeto', 'tcc', 'start', 'up', 'vinculado', 'agência', 'inovação', 'empreendedorismo', 'unisul', 'agetec', 'na', 'terça-feira', '19', 'partir', '18h30', 'furb', 'recebe', 'equipe', 'haco', 'etiquetas', 'bruno', 'brandão', 'gerente', 'marketing', 'silvio', 'triques', 'coordenador', 'marketing', 'taís', 'prawucki', 'planejamento', 'criação', 'osiris', 'reis', 'estratégias', 'marketing', 'digital', 'relacionamento', 'palestra', 'marketing', '360º', 'nos', 'dois', 'dias', 'palestras', 'ocorrem', 'auditório', 'biblioteca', 'universitária', 'campus', 'furb', '18h30', '22h', 'participação', 'gratuita', 'inscrições', 'podem', 'ser', 'feitas', 'neste', 'link'], ['nos', 'dias', '22', '23', 'novembro', 'auditório', 'bloco', 'campus', 'furb', 'movimentado', 'série', 'apresentações', 'palestras', 'abordarão', 'temas', 'combate', 'detecção', 'doenças', 'animais', 'cães', 'gatos', 'exemplo', 'primeira', 'edição', 'jornada', 'citopatologia', 'veterinária', 'sendo', 'organizada', 'grupo', 'estudos', 'patologia', 'veterinária', 'furb', 'gepav', 'jornada', 'voltada', 'acadêmicos', 'professores', 'profissionais', 'interesse', 'área', 'citologia', 'estudo', 'desenvolvimento', 'funções', 'células', 'animais', 'conforme', 'professora', 'curso', 'medicina', 'veterinária', 'furb', 'joelma', 'lucioli', 'auxilia', 'organização', 'evento', 'objetivo', 'fornecer', 'informações', 'atualizadas', 'qualidade', 'além', 'promover', 'intercâmbio', 'técnico', 'científico', 'público', 'envolvido', 'neste', 'conjunto', 'palestras', 'apresentações', 'contando', 'participação', 'profissionais', 'ampla', 'experiência', 'citopatologia', 'entre', 'especialistas', 'estarão', 'presentes', 'jornada', 'acadêmica', 'dr.', 'breno', 'souza', 'salgado', 'ufes/es', 'dra', 'lidiane', 'narducci', 'monteiro', 'codivet/es', 'mestre', 'leonardo', 'dourado', 'costa', 'instituto', 'qualittas', 'evento', 'início', 'sexta-feira', 'dia', '22', 'novembro', 'retirada', 'materiais', 'abertura', 'oficial', 'acontece', 'partir', '18h', 'auditório', 'bloco', 'campus', 'às', '19h', 'início', 'palestra', 'discutirá', 'importância', 'citologia', 'conduta', 'clínica', 'destacando', 'erros', 'limitações', 'em', 'seguida', '20h40', 'outro', 'painel', 'tratará', 'coleta', 'processamento', 'amostras', 'citológicas', 'haverá', 'intervalo', '20', 'minutos', 'palestra', 'outra', 'já', 'sábado', '23', 'dia', 'inteiro', 'apresentações', 'trocas', 'conhecimentos', 'profissionais', 'envolvidos', 'programação', 'início', '8h', 'manhã', 'continuação', 'painel', 'aborda', 'amostras', 'citológicas', 'trazendo', 'interpretações', 'resultados', 'citológicos', 'aferidos', 'às', '10h', 'outra', 'apresentação', 'irá', 'explanar', 'sobre', 'diagnóstico', 'citológico', 'neoplasias', 'células', 'redondas', 'em', 'seguida', '11h30', 'haverá', 'roda', 'conversas', 'irá', 'discutir', 'casos', 'clínicos', 'observados', 'cotidiano', 'profissionais', 'área', 'durante', 'tarde', 'partir', '14h', 'acontecerá', 'palestra', 'sobre', 'diagnóstico', 'citológico', 'principais', 'neoplasias', 'epiteliais', 'acometem', 'pele', 'animais', 'às', '16h', 'outra', 'palestra', 'irá', 'trazer', 'estudos', 'sobre', 'principais', 'doenças', 'infecciosas', 'pele', 'cães', 'gatos', 'logo', 'após', 'haverá', 'roda', 'discussão', 'casos', 'clínicos', 'observados', 'profissionais', 'diagnósticos', 'obtidos', 'às', '18', 'horas', 'marcada', 'cerimônia', 'encerramento', 'para', 'participar', 'jornada', 'citopatologia', 'veterinária', 'inscrições', 'deverão', 'ser', 'feitas', 'através', 'deste', 'link', 'dia', '20', 'novembro', 'valor', 'inscrição', 'estudantes', '50,00', 'profissionais', 'área', '100,00', 'sócios', 'associação', 'brasileira', 'patologias', 'veterinárias', 'abpv', '10', 'desconto', 'inscrição', 'pagamento', 'pode', 'ser', 'feito', 'através', 'depósito', 'transferência', 'bancária', 'mais', 'informações', 'podem', 'ser', 'obtidas', 'e-mail', 'gepavfurb', 'gmail.com', '1ª', 'jornada', 'acadêmica', 'patologia', 'veterinária', 'realização', 'grupo', 'estudos', 'patologia', 'veterinária', 'furb', 'gepav', 'apoio', 'associação', 'brasileira', 'patologia', 'veterinária', 'abpv', 'auxílio', 'financeiro', 'fundação', 'amparo', 'pesquisa', 'estado', 'santa', 'catarina', 'fapesc', 'através', 'chamada', 'pública', '01/2019'], ['índice', 'variação', 'geral', 'preços', 'município', 'blumenau', 'ivgp', 'calculado', 'furb', 'mês', 'outubro', 'apontou', 'redução', 'preços', '92', '511', 'itens', 'pesquisados', 'compor', 'índice', 'organizados', '25', 'subgrupos', 'último', 'mês', 'cinco', 'subgrupos', 'registraram', 'alta', 'enquanto', '12', 'permaneceram', 'estáveis', 'oito', 'variaram', 'negativamente', 'os', 'produtos', 'limpeza', 'registraram', 'maior', 'baixa', 'preços', '-3,55', 'seguidos', 'alimentos', 'industrializados', 'variaram', '-1,68', 'serviços', 'públicos', '-1,10', 'já', 'itens', 'registraram', 'maior', 'alta', 'preços', 'materiais', 'construção', '+2,38', 'alimentos', 'semi-industrializados', '+1,25', 'autopeças', '1,13', 'assim', 'variação', 'preços', 'mês', 'outubro', 'negativa', '-0,29', 'abaixo', 'intervalo', 'esperado', 'economistas', '0,00', '+0,50', 'variação', 'acumulada', 'últimos', 'doze', 'meses', 'negativa', '-0,09', 'terceiro', 'mês', 'seguido', 'ivgp', 'registra', 'variação', 'negativa', 'agosto', '-0,93', 'setembro', '-0,67', 'outubro', '-0,29', 'no', 'mês', 'ano', 'passado', 'ivgp', 'registrava', '+0,59', 'maior', 'índice', 'últimos', '12', 'meses', 'mantido', 'atual', 'contexto', 'variação', 'geral', 'preços', 'acumulada', '12', 'meses', 'dezembro', '2019', 'tende', 'configurar', 'cenário', 'otimista', '+3,66', 'variação', 'média', '0,30', 'mês', 'para', 'acompanhar', 'série', 'histórica', 'índice', 'calculado', 'desde', '1993', 'basta', 'acessar', 'www.furb.br/ivgp']]\n"
     ]
    }
   ],
   "source": [
    "# Filtrando os termos \n",
    "\n",
    "import string\n",
    "\n",
    "docs_termos = []\n",
    "for doc in documentos:\n",
    "    termos = word_tokenize(doc)\n",
    "    termos = (t for t in termos if t not in sws)\n",
    "    termos = (t for t in termos if len(t) > 1)\n",
    "    termos = (t for t in termos if t not in string.punctuation)\n",
    "    termos = (t.lower() for t in termos)\n",
    "    termos = list(termos)\n",
    "    docs_termos.append(termos)\n",
    "\n",
    "# Gera uma lista de palavras para cada documento\n",
    "print(docs_termos)"
   ]
  },
  {
   "cell_type": "code",
   "execution_count": 58,
   "metadata": {},
   "outputs": [
    {
     "data": {
      "text/plain": [
       "Counter({'estudantes': 2,\n",
       "         'tecnologia': 1,\n",
       "         'marketing': 5,\n",
       "         'furb': 5,\n",
       "         'disciplina': 1,\n",
       "         'comunicação': 3,\n",
       "         'empresarial': 2,\n",
       "         'responsáveis': 1,\n",
       "         'local': 3,\n",
       "         'semana': 2,\n",
       "         'global': 3,\n",
       "         'empreendedorismo': 5,\n",
       "         'evento': 2,\n",
       "         'criado': 1,\n",
       "         '2007': 1,\n",
       "         'objetivo': 1,\n",
       "         'fortalecer': 1,\n",
       "         'disseminar': 1,\n",
       "         'cultura': 1,\n",
       "         'empreendedora': 3,\n",
       "         'ano': 1,\n",
       "         'ocorre': 1,\n",
       "         '18': 3,\n",
       "         '24': 1,\n",
       "         'novembro': 2,\n",
       "         '170': 1,\n",
       "         'países': 1,\n",
       "         'expectativa': 1,\n",
       "         'envolver': 1,\n",
       "         '10': 1,\n",
       "         'milhões': 1,\n",
       "         'pessoas': 1,\n",
       "         '35': 1,\n",
       "         'mil': 1,\n",
       "         'eventos': 1,\n",
       "         'cadastrados': 1,\n",
       "         'em': 1,\n",
       "         'blumenau': 1,\n",
       "         'programação': 1,\n",
       "         'acontece': 1,\n",
       "         'nesta': 2,\n",
       "         'segunda': 1,\n",
       "         'terça': 1,\n",
       "         '19': 2,\n",
       "         'auditório': 2,\n",
       "         'biblioteca': 2,\n",
       "         'universitária': 2,\n",
       "         'campus': 2,\n",
       "         'público': 1,\n",
       "         'direcionando': 1,\n",
       "         'universidade': 1,\n",
       "         'começando': 1,\n",
       "         'envolvê-los': 1,\n",
       "         'divulgação': 1,\n",
       "         'explica': 1,\n",
       "         'professora': 1,\n",
       "         'heloísa': 1,\n",
       "         'rosa': 1,\n",
       "         'além': 1,\n",
       "         'organização': 1,\n",
       "         'professores': 1,\n",
       "         'camila': 1,\n",
       "         'schmitt': 1,\n",
       "         'silvio': 2,\n",
       "         'luís': 1,\n",
       "         'vasconcellos': 1,\n",
       "         'valter': 1,\n",
       "         'augusto': 1,\n",
       "         'krauss': 1,\n",
       "         'todos': 1,\n",
       "         'ligados': 1,\n",
       "         'centro': 1,\n",
       "         'ciências': 1,\n",
       "         'sociais': 1,\n",
       "         'aplicadas': 1,\n",
       "         'ccsa': 1,\n",
       "         'as': 1,\n",
       "         'atividades': 1,\n",
       "         'iniciam': 1,\n",
       "         'segunda-feira': 1,\n",
       "         '18h30': 3,\n",
       "         'palestra': 2,\n",
       "         'ionita': 1,\n",
       "         'lunelli': 1,\n",
       "         'analista': 1,\n",
       "         'sebrae/sc': 1,\n",
       "         '20': 1,\n",
       "         'anos': 1,\n",
       "         'ela': 1,\n",
       "         'fala': 1,\n",
       "         'sobre': 1,\n",
       "         'sebrae': 1,\n",
       "         'estímulo': 1,\n",
       "         'promove': 1,\n",
       "         'na': 2,\n",
       "         'sequência': 1,\n",
       "         'consultor': 1,\n",
       "         'desenvolvimento': 1,\n",
       "         'startups': 1,\n",
       "         'instituto': 1,\n",
       "         'nexxera': 1,\n",
       "         'nexxlabs': 1,\n",
       "         'criador': 1,\n",
       "         'metodologia': 1,\n",
       "         'tcc': 2,\n",
       "         'start': 2,\n",
       "         'up': 2,\n",
       "         'joão': 1,\n",
       "         'geraldo': 1,\n",
       "         'campos': 1,\n",
       "         'apresenta': 1,\n",
       "         'negócios': 1,\n",
       "         'propósito': 1,\n",
       "         'cases': 1,\n",
       "         'social': 1,\n",
       "         'convidado': 1,\n",
       "         'formação': 1,\n",
       "         'educação': 2,\n",
       "         'babson': 1,\n",
       "         'college': 1,\n",
       "         'massachusetts': 1,\n",
       "         'vencedor': 1,\n",
       "         'prêmio': 1,\n",
       "         'nacional': 1,\n",
       "         'endeavor': 1,\n",
       "         'brasil': 1,\n",
       "         '2016': 1,\n",
       "         'projeto': 1,\n",
       "         'vinculado': 1,\n",
       "         'agência': 1,\n",
       "         'inovação': 1,\n",
       "         'unisul': 1,\n",
       "         'agetec': 1,\n",
       "         'terça-feira': 1,\n",
       "         'partir': 1,\n",
       "         'recebe': 1,\n",
       "         'equipe': 1,\n",
       "         'haco': 1,\n",
       "         'etiquetas': 1,\n",
       "         'bruno': 1,\n",
       "         'brandão': 1,\n",
       "         'gerente': 1,\n",
       "         'triques': 1,\n",
       "         'coordenador': 1,\n",
       "         'taís': 1,\n",
       "         'prawucki': 1,\n",
       "         'planejamento': 1,\n",
       "         'criação': 1,\n",
       "         'osiris': 1,\n",
       "         'reis': 1,\n",
       "         'estratégias': 1,\n",
       "         'digital': 1,\n",
       "         'relacionamento': 1,\n",
       "         '360º': 1,\n",
       "         'nos': 1,\n",
       "         'dois': 1,\n",
       "         'dias': 1,\n",
       "         'palestras': 1,\n",
       "         'ocorrem': 1,\n",
       "         '22h': 1,\n",
       "         'participação': 1,\n",
       "         'gratuita': 1,\n",
       "         'inscrições': 1,\n",
       "         'podem': 1,\n",
       "         'ser': 1,\n",
       "         'feitas': 1,\n",
       "         'neste': 1,\n",
       "         'link': 1})"
      ]
     },
     "execution_count": 58,
     "metadata": {},
     "output_type": "execute_result"
    }
   ],
   "source": [
    "from collections import Counter\n",
    "from sklearn.feature_extraction import DictVectorizer\n",
    "from sklearn.feature_extraction.text import TfidfTransformer\n",
    "\n",
    "# também é possível usar\n",
    "# https://scikit-learn.org/stable/modules/generated/sklearn.feature_extraction.text.CountVectorizer.html\n",
    "# https://scikit-learn.org/stable/modules/generated/sklearn.feature_extraction.text.TfidfVectorizer.html\n",
    "\n",
    "dv = DictVectorizer()\n",
    "X = dv.fit_transform(Counter(d) for d in docs_termos)\n",
    "\n",
    "# Contador de palavras\n",
    "\n",
    "Counter(docs_termos[0])"
   ]
  },
  {
   "cell_type": "code",
   "execution_count": 60,
   "metadata": {},
   "outputs": [
    {
     "name": "stdout",
     "output_type": "stream",
     "text": [
      "(3, 457)\n",
      "\n",
      "[[0. 0. 0. 0. 0. 0. 0. 0. 0. 0. 0. 0. 0. 0. 0. 0. 1. 0. 0. 0. 0. 0. 0. 1.\n",
      "  3. 0. 3. 2. 0. 0. 0. 1. 1. 1. 0. 0. 0. 1. 0. 1. 0. 1. 1. 0. 0. 0. 0. 0.\n",
      "  0. 0. 0. 0. 0. 0. 0. 0. 0. 1. 0. 0. 0. 1. 0. 1. 0. 0. 1. 0. 0. 0. 1. 0.\n",
      "  1. 1. 1. 0. 0. 1. 0. 0. 0. 1. 0. 0. 1. 0. 0. 0. 2. 1. 0. 0. 0. 1. 0. 0.\n",
      "  0. 2. 0. 1. 1. 1. 0. 0. 1. 1. 0. 1. 1. 2. 1. 0. 0. 1. 1. 0. 0. 0. 0. 0.\n",
      "  0. 0. 0. 0. 0. 1. 0. 0. 0. 0. 1. 0. 1. 0. 3. 0. 0. 0. 0. 0. 0. 1. 0. 0.\n",
      "  0. 0. 1. 1. 0. 0. 1. 1. 1. 1. 0. 0. 0. 0. 0. 0. 1. 0. 0. 0. 0. 0. 0. 0.\n",
      "  0. 1. 1. 1. 1. 0. 0. 0. 1. 1. 0. 1. 0. 0. 0. 0. 0. 0. 0. 0. 2. 1. 1. 3.\n",
      "  5. 2. 0. 1. 0. 0. 1. 0. 0. 1. 0. 1. 0. 0. 0. 0. 0. 1. 2. 0. 0. 0. 1. 1.\n",
      "  2. 1. 0. 1. 0. 0. 1. 1. 0. 1. 0. 0. 1. 0. 1. 0. 0. 5. 0. 0. 0. 0. 1. 1.\n",
      "  3. 0. 1. 0. 1. 0. 1. 0. 0. 0. 0. 0. 0. 1. 1. 0. 1. 1. 0. 0. 0. 0. 0. 0.\n",
      "  1. 0. 0. 0. 0. 0. 1. 0. 1. 0. 0. 1. 0. 0. 1. 3. 0. 0. 1. 1. 0. 0. 0. 0.\n",
      "  0. 5. 1. 0. 0. 0. 0. 1. 1. 1. 0. 0. 0. 0. 0. 0. 2. 1. 0. 0. 0. 1. 0. 2.\n",
      "  1. 1. 1. 0. 1. 2. 1. 0. 0. 0. 1. 1. 0. 0. 0. 0. 1. 0. 1. 0. 0. 0. 0. 0.\n",
      "  0. 2. 1. 0. 0. 1. 1. 0. 0. 0. 1. 0. 0. 0. 0. 1. 1. 0. 1. 1. 0. 0. 0. 0.\n",
      "  0. 0. 1. 1. 0. 1. 1. 1. 0. 1. 1. 0. 1. 0. 0. 0. 0. 1. 0. 0. 0. 0. 0. 1.\n",
      "  1. 1. 0. 0. 0. 1. 0. 0. 1. 1. 1. 0. 0. 0. 1. 1. 2. 0. 0. 1. 1. 0. 0. 0.\n",
      "  2. 1. 1. 1. 0. 2. 1. 0. 0. 0. 0. 0. 1. 2. 1. 0. 0. 0. 1. 1. 1. 0. 0. 0.\n",
      "  0. 1. 0. 0. 0. 1. 1. 2. 2. 0. 1. 0. 0. 1. 1. 0. 0. 1. 0. 0. 0. 0. 0. 0.\n",
      "  0.]]\n"
     ]
    }
   ],
   "source": [
    "# 3 documentos com 457 palavras\n",
    "print(X.shape)\n",
    "print()\n",
    "\n",
    "# Primeiro documento com a quantidade que cada palavra aparece\n",
    "print(X[0, :].toarray())\n"
   ]
  },
  {
   "cell_type": "code",
   "execution_count": 62,
   "metadata": {},
   "outputs": [
    {
     "data": {
      "text/plain": [
       "array(['10', '170', '18', '18h30', '19', '20', '2007', '2016', '22h',\n",
       "       '24', '35', '360º', 'acontece', 'agetec', 'agência', 'além',\n",
       "       'analista', 'ano', 'anos', 'aplicadas', 'apresenta', 'as',\n",
       "       'atividades', 'auditório', 'augusto', 'babson', 'biblioteca',\n",
       "       'blumenau', 'brandão', 'brasil', 'bruno', 'cadastrados', 'camila',\n",
       "       'campos', 'campus', 'cases', 'ccsa', 'centro', 'ciências',\n",
       "       'college', 'começando', 'comunicação', 'consultor', 'convidado',\n",
       "       'coordenador', 'criado', 'criador', 'criação', 'cultura',\n",
       "       'desenvolvimento', 'dias', 'digital', 'direcionando', 'disciplina',\n",
       "       'disseminar', 'divulgação', 'dois', 'educação', 'ela', 'em',\n",
       "       'empreendedora', 'empreendedorismo', 'empresarial', 'endeavor',\n",
       "       'envolver', 'envolvê-los', 'equipe', 'estratégias', 'estudantes',\n",
       "       'estímulo', 'etiquetas', 'evento', 'eventos', 'expectativa',\n",
       "       'explica', 'fala', 'feitas', 'formação', 'fortalecer', 'furb',\n",
       "       'geraldo', 'gerente', 'global', 'gratuita', 'haco', 'heloísa',\n",
       "       'iniciam', 'inovação', 'inscrições', 'instituto', 'ionita', 'joão',\n",
       "       'krauss', 'ligados', 'link', 'local', 'lunelli', 'luís',\n",
       "       'marketing', 'massachusetts', 'metodologia', 'mil', 'milhões',\n",
       "       'na', 'nacional', 'negócios', 'nesta', 'neste', 'nexxera',\n",
       "       'nexxlabs', 'nos', 'novembro', 'objetivo', 'ocorre', 'ocorrem',\n",
       "       'organização', 'osiris', 'palestra', 'palestras', 'participação',\n",
       "       'partir', 'países', 'pessoas', 'planejamento', 'podem', 'prawucki',\n",
       "       'professora', 'professores', 'programação', 'projeto', 'promove',\n",
       "       'propósito', 'prêmio', 'público', 'recebe', 'reis',\n",
       "       'relacionamento', 'responsáveis', 'rosa', 'schmitt', 'sebrae',\n",
       "       'sebrae/sc', 'segunda', 'segunda-feira', 'semana', 'sequência',\n",
       "       'ser', 'silvio', 'sobre', 'sociais', 'social', 'start', 'startups',\n",
       "       'taís', 'tcc', 'tecnologia', 'terça', 'terça-feira', 'todos',\n",
       "       'triques', 'unisul', 'universidade', 'universitária', 'up',\n",
       "       'valter', 'vasconcellos', 'vencedor', 'vinculado'], dtype='<U21')"
      ]
     },
     "execution_count": 62,
     "metadata": {},
     "output_type": "execute_result"
    }
   ],
   "source": [
    "# termos no documento\n",
    "# Com isso a gente consegue medir a distancia entre documentos\n",
    "# Ver se são parecidos ou falam das mesmas coisas =)\n",
    "# Isso tudo através da distancia das palavras\n",
    "# É possível classificar os textos através de uma base pré-definida\n",
    "\n",
    "import numpy as np\n",
    "\n",
    "mask = X[0, :].toarray().flatten() > 0 \n",
    "np.array(dv.get_feature_names())[mask] # comparação vetorizada do numpy"
   ]
  },
  {
   "cell_type": "code",
   "execution_count": 66,
   "metadata": {},
   "outputs": [
    {
     "data": {
      "text/plain": [
       "array(['+0,50', 'já', 'jornada', 'joelma', 'ivgp', 'itens', 'irá',\n",
       "       'início', 'intervalo', 'interpretações'], dtype='<U21')"
      ]
     },
     "execution_count": 66,
     "metadata": {},
     "output_type": "execute_result"
    }
   ],
   "source": [
    "# top-k termos do primeiro documento\n",
    "k = 10\n",
    "args = np.argsort(X[0, :].toarray().flatten())\n",
    "np.array(dv.get_feature_names())[args[:k]]\n",
    "\n"
   ]
  },
  {
   "cell_type": "code",
   "execution_count": 67,
   "metadata": {},
   "outputs": [],
   "source": [
    "tfidf = TfidfTransformer(norm='l1')  # l1 norm, divide pela quantidade de termos no documento\n",
    "X = tfidf.fit_transform(X)"
   ]
  },
  {
   "cell_type": "code",
   "execution_count": 68,
   "metadata": {},
   "outputs": [
    {
     "data": {
      "text/plain": [
       "array(['+0,50', 'já', 'jornada', 'joelma', 'ivgp', 'itens', 'irá',\n",
       "       'início', 'intervalo', 'interpretações'], dtype='<U21')"
      ]
     },
     "execution_count": 68,
     "metadata": {},
     "output_type": "execute_result"
    }
   ],
   "source": [
    "# top-k termos\n",
    "k = 10\n",
    "args = np.argsort(X[0, :].toarray().flatten())\n",
    "np.array(dv.get_feature_names())[args[:k]]"
   ]
  },
  {
   "cell_type": "markdown",
   "metadata": {},
   "source": [
    "## Part of Speech (POS) tagging\n",
    "\n",
    "Anota as palavras de acordo com a sua função linguística na frase.\n",
    "Ou seja, indica se uma palavra é um verbo, substantivo, pontuação, outros."
   ]
  },
  {
   "cell_type": "code",
   "execution_count": 72,
   "metadata": {},
   "outputs": [
    {
     "data": {
      "text/plain": [
       "['DET',\n",
       " 'PROPN',\n",
       " 'VERB',\n",
       " 'ADJ',\n",
       " 'PROPN',\n",
       " 'PROPN',\n",
       " 'PROPN',\n",
       " 'PUNCT',\n",
       " 'DET',\n",
       " 'NOUN']"
      ]
     },
     "execution_count": 72,
     "metadata": {},
     "output_type": "execute_result"
    }
   ],
   "source": [
    "lemmas = [t.pos_ for t in spacy_tokens_sem_stopwords]\n",
    "lemmas[:10]"
   ]
  },
  {
   "cell_type": "code",
   "execution_count": 86,
   "metadata": {},
   "outputs": [
    {
     "name": "stdout",
     "output_type": "stream",
     "text": [
      "desponta\n",
      "seguida\n",
      "está\n",
      "seguida\n"
     ]
    }
   ],
   "source": [
    "# pegando apenas os verbos\n",
    "for token in filter(lambda x: x.pos_ == 'VERB', doc):\n",
    "    print(token)"
   ]
  },
  {
   "cell_type": "code",
   "execution_count": 87,
   "metadata": {},
   "outputs": [
    {
     "name": "stdout",
     "output_type": "stream",
     "text": [
      "total\n",
      "país\n",
      "lugar\n"
     ]
    }
   ],
   "source": [
    "# pegando apenas os substantivos\n",
    "for token in filter(lambda x: x.pos_ == 'NOUN', doc):\n",
    "    print(token)"
   ]
  },
  {
   "cell_type": "code",
   "execution_count": 59,
   "metadata": {},
   "outputs": [
    {
     "name": "stdout",
     "output_type": "stream",
     "text": [
      "Brasil\n",
      "Universidades\n",
      "América\n",
      "Latina\n",
      "10\n",
      "do\n",
      "Chile\n",
      "Colômbia\n",
      "México\n",
      "Argentina\n",
      "Universidade\n",
      "Católica\n",
      "Chile\n",
      "da\n",
      "Universidade\n",
      "São\n",
      "Paulo\n",
      "USP\n"
     ]
    }
   ],
   "source": [
    "# pegando apenas os nomes próprios\n",
    "for token in filter(lambda x: x.pos_ == 'PROPN', doc):\n",
    "    print(token)"
   ]
  },
  {
   "cell_type": "markdown",
   "metadata": {},
   "source": [
    "## Named Entity Recognition (NER)\n",
    "\n",
    "Reconhece e classifica entidades no texto"
   ]
  },
  {
   "cell_type": "code",
   "execution_count": 88,
   "metadata": {},
   "outputs": [
    {
     "name": "stdout",
     "output_type": "stream",
     "text": [
      "Brasil LOC\n",
      "Universidades da América Latina PER\n",
      "Chile LOC\n",
      "Colômbia LOC\n",
      "México LOC\n",
      "Argentina LOC\n",
      "Pontifícia Universidade Católica do Chile LOC\n",
      "Universidade de São Paulo LOC\n",
      "USP LOC\n"
     ]
    }
   ],
   "source": [
    "for entity in doc.ents:\n",
    "    print(entity.text, entity.label_)"
   ]
  },
  {
   "cell_type": "code",
   "execution_count": null,
   "metadata": {},
   "outputs": [],
   "source": []
  }
 ],
 "metadata": {
  "kernelspec": {
   "display_name": "Python 3",
   "language": "python",
   "name": "python3"
  },
  "language_info": {
   "codemirror_mode": {
    "name": "ipython",
    "version": 3
   },
   "file_extension": ".py",
   "mimetype": "text/x-python",
   "name": "python",
   "nbconvert_exporter": "python",
   "pygments_lexer": "ipython3",
   "version": "3.7.3"
  }
 },
 "nbformat": 4,
 "nbformat_minor": 2
}
